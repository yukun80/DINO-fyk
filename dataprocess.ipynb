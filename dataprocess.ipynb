{
 "cells": [
  {
   "cell_type": "code",
   "execution_count": 22,
   "metadata": {},
   "outputs": [],
   "source": [
    "import os\n",
    "from PIL import Image\n",
    "import torchvision.transforms as transforms\n",
    "import matplotlib.pyplot as plt\n",
    "import numpy as np"
   ]
  },
  {
   "cell_type": "code",
   "execution_count": 3,
   "metadata": {},
   "outputs": [],
   "source": [
    "# 处理为单通道\n",
    "def convert_images_to_grayscale(directory):\n",
    "    for filename in os.listdir(directory):\n",
    "        if filename.endswith(\".png\"):\n",
    "            file_path = os.path.join(directory, filename)\n",
    "            with Image.open(file_path) as img:\n",
    "                # 将图像转换为灰度格式\n",
    "                grayscale_img = img.convert(\"L\")  # \"L\" 代表灰度模式\n",
    "                # 保存转换后的图像，可以选择覆盖原始文件或保存到新的文件\n",
    "                grayscale_img.save(file_path)  # 如果需要，可以修改保存路径\n",
    "\n",
    "# 指定你的图像文件夹路径\n",
    "directory_path = \"../datadrive/bijie/labels/train\"\n",
    "convert_images_to_grayscale(directory_path)"
   ]
  },
  {
   "cell_type": "code",
   "execution_count": 32,
   "metadata": {},
   "outputs": [
    {
     "name": "stdout",
     "output_type": "stream",
     "text": [
      "Tensor shape: torch.Size([3, 224, 224])\n",
      "图像维度正确。\n"
     ]
    }
   ],
   "source": [
    "# 路径到你的PNG文件\n",
    "image_path = '../datadrive/bijie_five_crop_0.5/imgs/train/4.jpg'\n",
    "\n",
    "# 加载图像\n",
    "image = Image.open(image_path)\n",
    "\n",
    "# 转换为PyTorch张量\n",
    "transform = transforms.ToTensor()  # 这个转换也会把像素值从0-255转换到0-1\n",
    "tensor_image = transform(image)\n",
    "\n",
    "# 检查维度\n",
    "print(\"Tensor shape:\", tensor_image.shape)  # 应该输出 [C, H, W]\n",
    "\n",
    "# 检查是否满足特定形状，例如 3x448x448\n",
    "expected_shape = (3, 224, 224)\n",
    "if tensor_image.shape == expected_shape:\n",
    "    print(\"图像维度正确。\")\n",
    "else:\n",
    "    print(\"图像维度不正确。\")"
   ]
  },
  {
   "cell_type": "code",
   "execution_count": 16,
   "metadata": {},
   "outputs": [
    {
     "name": "stdout",
     "output_type": "stream",
     "text": [
      "The number of pixel categories in the image is: 2\n"
     ]
    }
   ],
   "source": [
    "# 输出值的类别数量\n",
    "\n",
    "def count_pixel_categories(image_path):\n",
    "    # 打开图像\n",
    "    image = Image.open(image_path)\n",
    "    # 获取图像的像素值\n",
    "    pixels = image.getdata()\n",
    "    # 获取像素值的类别数\n",
    "    categories = set(pixels)\n",
    "    # 返回类别数\n",
    "    return len(categories)\n",
    "\n",
    "# 指定图片路径\n",
    "image_path = '../datadrive/bijie/labels/train/df002.png'\n",
    "# 获取像素值类别数\n",
    "num_categories = count_pixel_categories(image_path)\n",
    "# 输出结果\n",
    "print(\"The number of pixel categories in the image is:\", num_categories)\n"
   ]
  },
  {
   "cell_type": "markdown",
   "metadata": {},
   "source": [
    "将所有标签固定尺寸，保持单通道，填充多余部分，并转换为二值图像"
   ]
  },
  {
   "cell_type": "code",
   "execution_count": 20,
   "metadata": {},
   "outputs": [],
   "source": [
    "from PIL import Image, ImageOps\n",
    "import os\n",
    "\n",
    "def resize_and_pad_label(img, size=(448, 448)):\n",
    "    # 转换为灰度图像（如果原始图像不是单通道的话）\n",
    "    # img = img.convert(\"L\")\n",
    "    \n",
    "    # 计算等比例缩放因子\n",
    "    ratio = min(size[0] / img.size[0], size[1] / img.size[1])\n",
    "    new_size = (int(img.size[0] * ratio), int(img.size[1] * ratio))\n",
    "    img = img.resize(new_size, Image.NEAREST)  # 使用最近邻插值保持二值性\n",
    "\n",
    "    # 创建一个新的单通道图像，大小为448x448，背景色为黑色\n",
    "    new_img = Image.new(\"L\", size, 0)\n",
    "    # 将缩放后的图像复制到中心\n",
    "    new_img.paste(img, ((size[0] - new_size[0]) // 2, (size[1] - new_size[1]) // 2))\n",
    "    return new_img\n",
    "\n",
    "def process_label_images(img_dir, output_dir, size=(448, 448)):\n",
    "    if not os.path.exists(output_dir):\n",
    "        os.makedirs(output_dir)\n",
    "\n",
    "    img_files = os.listdir(img_dir)\n",
    "    for img_file in img_files:\n",
    "        img_path = os.path.join(img_dir, img_file)\n",
    "        with Image.open(img_path) as img:\n",
    "            img_resized = resize_and_pad_label(img, size)\n",
    "            output_path = os.path.join(output_dir, img_file)\n",
    "            img_resized.save(output_path, format='PNG')\n",
    "\n",
    "# 调用函数\n",
    "label_img_dir = '../datadrive/bijie/labels/train'  # 标签图像的目录\n",
    "output_label_dir = '../datadrive/bijie/labels/train_resized'  # 输出目录\n",
    "process_label_images(label_img_dir, output_label_dir)\n",
    "\n",
    "def convert_image_values(img):\n",
    "    # 将图像数据转换为numpy数组\n",
    "    data = np.array(img)\n",
    "    # 将255转换为1（假设只有0和255两种值）\n",
    "    data = np.where(data == 255, 1, 0)\n",
    "    # 将numpy数组转回图像\n",
    "    return Image.fromarray(data.astype(np.uint8))\n",
    "\n",
    "def binary_images(img_dir, output_dir):\n",
    "    if not os.path.exists(output_dir):\n",
    "        os.makedirs(output_dir)\n",
    "\n",
    "    img_files = os.listdir(img_dir)\n",
    "    for img_file in img_files:\n",
    "        img_path = os.path.join(img_dir, img_file)\n",
    "        with Image.open(img_path) as img:\n",
    "            # 确保图像是单通道灰度图\n",
    "            img = img.convert(\"L\")\n",
    "            converted_img = convert_image_values(img)\n",
    "            output_path = os.path.join(output_dir, img_file)\n",
    "            # 保存转换后的图像\n",
    "            converted_img.save(output_path, format='PNG')\n",
    "\n",
    "output_dir = 'path_to_output_images'  # 转换后图像的输出目录\n",
    "binary_images(output_label_dir, output_label_dir)"
   ]
  },
  {
   "cell_type": "code",
   "execution_count": 21,
   "metadata": {},
   "outputs": [
    {
     "name": "stdout",
     "output_type": "stream",
     "text": [
      "图像是否为二值图像: True\n",
      "图像中的唯一像素值: [0 1]\n"
     ]
    },
    {
     "data": {
      "image/png": "[encoded data removed]",
      "text/plain": [
       "<Figure size 640x480 with 2 Axes>"
      ]
     },
     "metadata": {},
     "output_type": "display_data"
    }
   ],
   "source": [
    "# 载入图像\n",
    "def load_image(image_path):\n",
    "    return Image.open(image_path)\n",
    "\n",
    "# 检查图像是否为二值图像\n",
    "def check_binary_image(image):\n",
    "    array = np.array(image)\n",
    "    unique_values = np.unique(array)\n",
    "    is_binary = np.array_equal(unique_values, [0, 1]) or np.array_equal(unique_values, [1, 0])\n",
    "    return is_binary, unique_values\n",
    "\n",
    "# 显示图像\n",
    "def plot_image(image):\n",
    "    plt.imshow(image, cmap='gray')\n",
    "    plt.colorbar()\n",
    "    plt.show()\n",
    "\n",
    "# 使用示例\n",
    "image_path = '../datadrive/bijie/labels/train_resized/df002.png'\n",
    "image = load_image(image_path)\n",
    "is_binary, unique_values = check_binary_image(image)\n",
    "print(f\"图像是否为二值图像: {is_binary}\")\n",
    "print(f\"图像中的唯一像素值: {unique_values}\")\n",
    "plot_image(image)"
   ]
  },
  {
   "cell_type": "markdown",
   "metadata": {},
   "source": [
    "将所有图像调整到固定尺寸，并填充多余部分"
   ]
  },
  {
   "cell_type": "code",
   "execution_count": null,
   "metadata": {},
   "outputs": [],
   "source": [
    "from PIL import Image, ImageOps\n",
    "import os\n",
    "\n",
    "def resize_and_pad(img, size=(448, 448)):\n",
    "    # 计算等比例缩放因子\n",
    "    ratio = min(size[0] / img.size[0], size[1] / img.size[1])\n",
    "    new_size = (int(img.size[0] * ratio), int(img.size[1] * ratio))\n",
    "    img = img.resize(new_size, Image.BICUBIC)  # 使用双三次插值缩放图像\n",
    "\n",
    "    # 创建一个新的图像，大小为448x448，背景色为黑色\n",
    "    new_img = Image.new(\"RGB\", size, (0, 0, 0))\n",
    "    # 将缩放后的图像复制到中心\n",
    "    new_img.paste(img, ((size[0] - new_size[0]) // 2, (size[1] - new_size[1]) // 2))\n",
    "    return new_img\n",
    "\n",
    "def process_images(img_dir, output_dir, size=(448, 448)):\n",
    "    if not os.path.exists(output_dir):\n",
    "        os.makedirs(output_dir)\n",
    "\n",
    "    img_files = os.listdir(img_dir)\n",
    "    for img_file in img_files:\n",
    "        img_path = os.path.join(img_dir, img_file)\n",
    "        with Image.open(img_path) as img:\n",
    "            img_resized = resize_and_pad(img, size)\n",
    "            output_path = os.path.join(output_dir, img_file)\n",
    "            img_resized.save(output_path)\n",
    "\n",
    "# 调用函数\n",
    "img_dir = 'data/train/labels'\n",
    "output_dir = 'data/train/resized_labels'\n",
    "process_images(img_dir, output_dir)\n"
   ]
  }
 ],
 "metadata": {
  "kernelspec": {
   "display_name": "base",
   "language": "python",
   "name": "python3"
  },
  "language_info": {
   "codemirror_mode": {
    "name": "ipython",
    "version": 3
   },
   "file_extension": ".py",
   "mimetype": "text/x-python",
   "name": "python",
   "nbconvert_exporter": "python",
   "pygments_lexer": "ipython3",
   "version": "3.11.5"
  }
 },
 "nbformat": 4,
 "nbformat_minor": 2
}
